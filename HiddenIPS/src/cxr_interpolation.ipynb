{
 "cells": [
  {
   "cell_type": "code",
   "execution_count": 19,
   "metadata": {},
   "outputs": [],
   "source": [
    "from stylegan2 import Generator, Encoder\n",
    "from torch import nn, autograd, optim\n",
    "import pandas as pd\n",
    "from tqdm import tqdm\n",
    "import torch\n",
    "import cv2\n",
    "import os\n",
    "from torchvision import utils\n",
    "\n",
    "# args.cgan = True\n",
    "build = {\"G\": True, \"D\": False, \"E\": True, \"C\": True}\n",
    "size, n_mlp, channel_multiplier, cgan = 256, 8, 2, True\n",
    "classifier_nof_classes, embedding_size, latent = 2, 10, 512\n",
    "g_reg_every, lr, ckpt = 4, 0.002, '../results/000500.pt'\n",
    "ckpt = '../results/000500.pt'\n",
    "device = \"cuda\"\n",
    "\n",
    "# for multi-gpu setup\n",
    "distributed = False"
   ]
  },
  {
   "cell_type": "code",
   "execution_count": null,
   "metadata": {},
   "outputs": [],
   "source": []
  },
  {
   "cell_type": "code",
   "execution_count": 20,
   "metadata": {
    "scrolled": true
   },
   "outputs": [
    {
     "name": "stdout",
     "output_type": "stream",
     "text": [
      "load model: ../results/000500.pt\n"
     ]
    }
   ],
   "source": [
    "# load checkpoints\n",
    "start_iter = 0\n",
    "print(\"load model:\", ckpt)\n",
    "ckpt = torch.load(ckpt, map_location=lambda storage, loc: storage)\n",
    "# try:\n",
    "#     ckpt_name = os.path.basename(ckpt)\n",
    "#     print(\"GOT HERE: \", ckpt_name)\n",
    "#     start_iter = int(os.path.splitext(ckpt_name)[0])\n",
    "\n",
    "# except ValueError:\n",
    "#     pass"
   ]
  },
  {
   "cell_type": "code",
   "execution_count": 17,
   "metadata": {},
   "outputs": [
    {
     "data": {
      "text/plain": [
       "(64, 256, 256, 3)"
      ]
     },
     "execution_count": 17,
     "metadata": {},
     "output_type": "execute_result"
    }
   ],
   "source": [
    "import numpy as np\n",
    "from torchvision import transforms\n",
    "from torchvision import utils\n",
    "import torch\n",
    "\n",
    "\n",
    "transform = transforms.Compose(\n",
    "        [\n",
    "            transforms.ToTensor(),\n",
    "            transforms.Resize((256,256)),\n",
    "            transforms.Normalize((0.485, 0.456, 0.406), (0.229, 0.224, 0.225), inplace=True),\n",
    "        ]\n",
    "    )\n",
    "\n",
    "sample = np.zeros((64, 224, 224, 3))\n",
    "batch = [transform(im).to(\"cuda\") for im in sample]\n",
    "batch = torch.stack(batch)\n",
    "batch = batch.mul(255).add_(0.5).clamp_(0, 255).permute(0, 2, 3, 1).to('cpu', torch.float32).numpy()\n",
    "batch.shape"
   ]
  },
  {
   "cell_type": "code",
   "execution_count": 21,
   "metadata": {},
   "outputs": [],
   "source": [
    "def accumulate(model1, model2, decay=0.999):\n",
    "    par1 = dict(model1.named_parameters())\n",
    "    par2 = dict(model2.named_parameters())\n",
    "\n",
    "    for k in par1.keys():\n",
    "        par1[k].data.mul_(decay).add_(par2[k].data, alpha=1 - decay)"
   ]
  },
  {
   "cell_type": "code",
   "execution_count": 22,
   "metadata": {},
   "outputs": [],
   "source": [
    "# Build Generator\n",
    "if build[\"G\"]:\n",
    "    generator = Generator(\n",
    "        size, latent, n_mlp, channel_multiplier=channel_multiplier,\n",
    "        conditional_gan=cgan, nof_classes=classifier_nof_classes, embedding_size=embedding_size\n",
    "    ).to(device)\n",
    "\n",
    "    g_ema = Generator(\n",
    "        size,latent, n_mlp, channel_multiplier=channel_multiplier,\n",
    "        conditional_gan=cgan, nof_classes=classifier_nof_classes, embedding_size=embedding_size\n",
    "    ).to(device)\n",
    "    g_ema.eval()\n",
    "    accumulate(g_ema, generator, 0)\n",
    "\n",
    "    g_reg_ratio = g_reg_every / (g_reg_every + 1)\n",
    "    g_optim = optim.Adam(\n",
    "        generator.parameters(),\n",
    "        lr=lr * g_reg_ratio,\n",
    "        betas=(0 ** g_reg_ratio, 0.99 ** g_reg_ratio),\n",
    "    )\n",
    "\n",
    "    if ckpt:\n",
    "        generator.load_state_dict(ckpt[\"g\"])\n",
    "        g_ema.load_state_dict(ckpt[\"g_ema\"])\n",
    "        g_optim.load_state_dict(ckpt[\"g_optim\"])\n",
    "\n",
    "    if distributed:\n",
    "        generator = nn.parallel.DistributedDataParallel(\n",
    "            generator,\n",
    "            device_ids=[args.local_rank],\n",
    "            output_device=args.local_rank,\n",
    "            broadcast_buffers=False,\n",
    "        )"
   ]
  },
  {
   "cell_type": "code",
   "execution_count": 23,
   "metadata": {},
   "outputs": [
    {
     "name": "stdout",
     "output_type": "stream",
     "text": [
      "load encoder model: ../results/000500.pt\n"
     ]
    }
   ],
   "source": [
    "encoder_ckpt = '../results/000500.pt' #'../results/Pleural Effusion/plural_048000.pt'\n",
    "# local_rank = int(os.environ[\"LOCAL_RANK\"])\n",
    "\n",
    "# Build Encoder\n",
    "if build[\"E\"]:\n",
    "    encoder = Encoder(\n",
    "        size, channel_multiplier=channel_multiplier, output_channels=latent\n",
    "    ).to(device)\n",
    "    e_optim = optim.Adam(\n",
    "        encoder.parameters(),\n",
    "        lr=lr\n",
    "    )\n",
    "\n",
    "    if encoder_ckpt is not None:\n",
    "        # Encoder ckpt given separately\n",
    "        print(\"load encoder model:\", encoder_ckpt)\n",
    "        e_ckpt = torch.load(encoder_ckpt, map_location=lambda storage, loc: storage)\n",
    "    else:\n",
    "        # Encoder given as part of general ckpt\n",
    "        e_ckpt = ckpt\n",
    "\n",
    "    if e_ckpt is not None and \"e\" in e_ckpt:\n",
    "        encoder.load_state_dict(e_ckpt[\"e\"])\n",
    "        e_optim.load_state_dict(e_ckpt[\"e_optim\"])\n",
    "\n",
    "    if distributed:\n",
    "        encoder = nn.parallel.DistributedDataParallel(\n",
    "            encoder,\n",
    "            device_ids=[local_rank],\n",
    "            output_device=local_rank,\n",
    "            broadcast_buffers=False,\n",
    "        )"
   ]
  },
  {
   "cell_type": "markdown",
   "metadata": {},
   "source": [
    "# Latent Interpolation"
   ]
  },
  {
   "cell_type": "code",
   "execution_count": 24,
   "metadata": {},
   "outputs": [],
   "source": [
    "def __age__(self, w, step_size = -2, magnitude=1):\n",
    "        alpha = step_size * magnitude\n",
    "        v = self.age_coeff.named_steps['linearsvc'].coef_[0].reshape((self.w_shape)) # get coefficients from hyperplane\n",
    "        v = (torch.from_numpy(v).float()).to(self.device)\n",
    "        new_w = w + alpha * v\n",
    "        original, _ = self.generator([w], input_is_latent=True)\n",
    "        synth, _ = self.generator([new_w], input_is_latent=True)\n",
    "        # save images\n",
    "        fig = torch.cat([original, synth], dim=0)\n",
    "        utils.save_image(fig, \"real_samples_age.png\", nrow=int(2 ** 2), normalize=True)\n",
    "        return w + alpha * v\n",
    "    \n",
    "def __sex__(self, w, step_size = 1, magnitude=1):\n",
    "    alpha = step_size * magnitude\n",
    "    v = self.age_coeff.named_steps['linearsvc'].coef_[0].reshape((self.w_shape)) # get coefficients from hyperplane\n",
    "    v = (torch.from_numpy(v).float()).to(self.device)\n",
    "    new_w = w + alpha * v\n",
    "    original, _ = self.generator([w], input_is_latent=True)\n",
    "    synth, _ = self.generator([new_w], input_is_latent=True)\n",
    "    # save images\n",
    "    fig = torch.cat([original, synth], dim=0)\n",
    "    utils.save_image(fig, \"real_samples_sex.png\", nrow=int(2 ** 2), normalize=True)\n",
    "    return w + alpha * v"
   ]
  },
  {
   "cell_type": "markdown",
   "metadata": {},
   "source": [
    "#### Generate random samples"
   ]
  },
  {
   "cell_type": "code",
   "execution_count": 245,
   "metadata": {},
   "outputs": [],
   "source": [
    "n_sample = 16\n",
    "\n",
    "# generate random sample\n",
    "sample_z = torch.randn(n_sample, latent, device=device)\n",
    "sample, _ = g_ema([sample_z])\n",
    "utils.save_image(sample[0], \"../random_samples.png\", nrow=int(1 ** 0.5), normalize=True)"
   ]
  },
  {
   "cell_type": "markdown",
   "metadata": {},
   "source": [
    "#### Generate real samples"
   ]
  },
  {
   "cell_type": "code",
   "execution_count": 14,
   "metadata": {},
   "outputs": [],
   "source": [
    "from torchvision import transforms\n",
    "\n",
    "transform = transforms.Compose(\n",
    "        [\n",
    "            transforms.ToTensor(),\n",
    "            transforms.Resize((256,256)),\n",
    "            transforms.Normalize((0.485, 0.456, 0.406), (0.229, 0.224, 0.225), inplace=True),\n",
    "        ]\n",
    "    )"
   ]
  },
  {
   "cell_type": "code",
   "execution_count": 62,
   "metadata": {},
   "outputs": [
    {
     "name": "stdout",
     "output_type": "stream",
     "text": [
      "../../datasets/rsna/00000013_004.png\n",
      "(256, 256, 3)\n"
     ]
    },
    {
     "data": {
      "image/png": "[encoded data removed]",
      "text/plain": [
       "<Figure size 640x480 with 1 Axes>"
      ]
     },
     "metadata": {},
     "output_type": "display_data"
    }
   ],
   "source": [
    "import cv2\n",
    "import matplotlib.pyplot as plt\n",
    "from PIL import Image\n",
    "\n",
    "patient_id = 12\n",
    "\n",
    "# load image\n",
    "cxpt_csv = pd.DataFrame(pd.read_csv(\"../../datasets/rsna_patients.csv\"))\n",
    "patient_data = cxpt_csv.iloc[patient_id]\n",
    "img = cv2.imread(\"../../datasets/rsna/\" + patient_data[\"Image Index\"])\n",
    "print(\"../../datasets/rsna/\" + patient_data[\"Image Index\"])\n",
    "# label = 0\n",
    "# if patient_data[\"Consolidation\"] == 1 or patient_data[\"Lung Opacity\"] == 1 or patient_data[\"Pneumonia\"] == 1:\n",
    "#     label = 1\n",
    "\n",
    "\n",
    "plt.imshow(cv2.resize(img, (256,256)));plt.axis(False);plt.title(f\"Real CXR; Pneumonia: {0}\")\n",
    "\n",
    "# encode image\n",
    "img = transform(img).to(device)\n",
    "img = torch.unsqueeze(img, 0)\n",
    "encoded = encoder(img)\n",
    "\n",
    "# reconstruct real-cxr\n",
    "reconstructed, _ = generator([encoded], input_is_latent=True)\n",
    "\n",
    "grid = utils.make_grid(reconstructed)\n",
    "# Add 0.5 after unnormalizing to [0, 255] to round to nearest integer\n",
    "ndarr = grid.mul(255).add_(0.5).clamp_(0, 255).permute(1, 2, 0).to('cpu', torch.uint8).numpy()\n",
    "print(ndarr.shape)\n",
    "# # save example\n",
    "# utils.save_image(reconstructed, \"../real_samples.png\", nrow=int(1 ** 0.5), normalize=True)"
   ]
  },
  {
   "cell_type": "markdown",
   "metadata": {},
   "source": [
    "#### Train linear SVM: Sex"
   ]
  },
  {
   "cell_type": "code",
   "execution_count": 25,
   "metadata": {},
   "outputs": [],
   "source": [
    "def load_image(path):\n",
    "    img = cv2.imread(path)  # Load image using cv2\n",
    "    img_rgb = cv2.cvtColor(img, cv2.COLOR_BGR2RGB)  # Convert to RGB\n",
    "    img_tensor = transform(img_rgb).unsqueeze(0).to(device)  # Preprocess\n",
    "    return img_tensor\n",
    "\n",
    "def process_in_batches(patients, path_prefix, encoder, batch_size):\n",
    "    style_vectors = []\n",
    "    for i in tqdm(range(0, len(patients), batch_size)):\n",
    "        batch_paths = patients.iloc[i : i + batch_size][\"Image Index\"].tolist()\n",
    "        batch_imgs = [load_image(path_prefix + path) for path in batch_paths]\n",
    "        batch_imgs_tensor = torch.cat(batch_imgs, dim=0)  # Stack images in a batch\n",
    "        with torch.no_grad():  # Avoid tracking gradients to save memory\n",
    "            # Encode batch to latent vectors in Z space\n",
    "            w_latents = encoder(batch_imgs_tensor)\n",
    "        # Move to CPU to save memory and add to list\n",
    "        style_vectors.extend(w_latents.cpu())\n",
    "        del batch_imgs_tensor, w_latents # Cleanup and clear cache\n",
    "        torch.cuda.empty_cache()  # Clear cache to free memory\n",
    "\n",
    "    return style_vectors"
   ]
  },
  {
   "cell_type": "code",
   "execution_count": 26,
   "metadata": {},
   "outputs": [
    {
     "name": "stdout",
     "output_type": "stream",
     "text": [
      "Total male patients:  500\n",
      "Total female patients:  500\n"
     ]
    }
   ],
   "source": [
    "import pandas as pd\n",
    "n_patients = 500\n",
    "cxpt_csv = pd.DataFrame(pd.read_csv(\"../../datasets/rsna_patients.csv\"))\n",
    "\n",
    "# Load 500 latent vectors from each class\n",
    "male_patients = cxpt_csv[cxpt_csv[\"Patient Gender\"] == \"M\"][:500]\n",
    "female_patients = cxpt_csv[cxpt_csv[\"Patient Gender\"] == \"F\"][:500]\n",
    "print(\"Total male patients: \", len(male_patients))\n",
    "print(\"Total female patients: \", len(female_patients))"
   ]
  },
  {
   "cell_type": "code",
   "execution_count": 27,
   "metadata": {},
   "outputs": [
    {
     "name": "stderr",
     "output_type": "stream",
     "text": [
      "100%|██████████| 32/32 [00:05<00:00,  5.47it/s]\n",
      "100%|██████████| 32/32 [00:04<00:00,  7.67it/s]"
     ]
    },
    {
     "name": "stdout",
     "output_type": "stream",
     "text": [
      "male and female embeddings loaded successfully...\n"
     ]
    },
    {
     "name": "stderr",
     "output_type": "stream",
     "text": [
      "\n"
     ]
    }
   ],
   "source": [
    "from torchvision import transforms\n",
    "\n",
    "transform = transforms.Compose(\n",
    "        [\n",
    "            transforms.ToTensor(),\n",
    "            transforms.Resize((256,256)),\n",
    "            transforms.Normalize((0.485, 0.456, 0.406), (0.229, 0.224, 0.225), inplace=True),\n",
    "        ]\n",
    "    )\n",
    "\n",
    "batch_size = 16\n",
    "\n",
    "# Process male and female images in batches\n",
    "male_imgs = process_in_batches(male_patients, \"../../datasets/rsna/\", encoder, batch_size)\n",
    "female_imgs = process_in_batches(female_patients, \"../../datasets/rsna/\", encoder, batch_size)\n",
    "print(\"male and female embeddings loaded successfully...\")"
   ]
  },
  {
   "cell_type": "code",
   "execution_count": 29,
   "metadata": {},
   "outputs": [
    {
     "name": "stderr",
     "output_type": "stream",
     "text": [
      "/home/uwaejaso/.conda/envs/ada/lib/python3.8/site-packages/sklearn/svm/_classes.py:32: FutureWarning: The default value of `dual` will change from `True` to `'auto'` in 1.5. Set the value of `dual` explicitly to suppress the warning.\n",
      "  warnings.warn(\n"
     ]
    },
    {
     "name": "stdout",
     "output_type": "stream",
     "text": [
      "Gender Classification Performance:\n",
      "               precision    recall  f1-score   support\n",
      "\n",
      "           F       0.85      0.93      0.89       100\n",
      "           M       0.92      0.84      0.88       100\n",
      "\n",
      "    accuracy                           0.89       200\n",
      "   macro avg       0.89      0.89      0.88       200\n",
      "weighted avg       0.89      0.89      0.88       200\n",
      "\n",
      "Accuracy: 88.50%\n"
     ]
    },
    {
     "name": "stderr",
     "output_type": "stream",
     "text": [
      "/home/uwaejaso/.conda/envs/ada/lib/python3.8/site-packages/sklearn/svm/_base.py:1250: ConvergenceWarning: Liblinear failed to converge, increase the number of iterations.\n",
      "  warnings.warn(\n"
     ]
    }
   ],
   "source": [
    "import torch\n",
    "import random\n",
    "import numpy as np\n",
    "from sklearn.svm import SVC\n",
    "from sklearn.model_selection import train_test_split\n",
    "from sklearn.metrics import classification_report, accuracy_score\n",
    "from sklearn.pipeline import make_pipeline\n",
    "from sklearn.svm import LinearSVC\n",
    "\n",
    "# prepare dataset\n",
    "styles, labels = [], []\n",
    "styles.extend(male_imgs); labels.extend(list(male_patients[\"Patient Gender\"]))\n",
    "styles.extend(female_imgs); labels.extend(list(female_patients[\"Patient Gender\"]))\n",
    "\n",
    "# Convert to NumPy arrays for sklearn compatibility\n",
    "styles = np.array([style.numpy().flatten() for style in styles])\n",
    "# styles = torch.stack(styles) \n",
    "labels = np.array(labels)\n",
    "\n",
    "\n",
    "# Shuffle dataset with the same seed\n",
    "seed = 42\n",
    "random.seed(seed)\n",
    "np.random.seed(seed)\n",
    "\n",
    "# Shuffle styles and labels together\n",
    "indices = np.arange(len(styles))\n",
    "np.random.shuffle(indices)\n",
    "styles, labels = styles[indices], labels[indices]\n",
    "\n",
    "# Split dataset into train and test sets (80/20 split)\n",
    "X_train, X_test, y_train, y_test = train_test_split(styles, labels, test_size=0.2, random_state=seed)\n",
    "\n",
    "# Initialize and train linear SVM\n",
    "# svm_model = SVC(kernel=\"linear\", C=1.0, random_state=seed, tol=1e-5)\n",
    "# svm_model.fit(X_train, y_train)\n",
    "clf = make_pipeline(LinearSVC(random_state=0, tol=1e-5))\n",
    "clf.fit(X_train, y_train)\n",
    "\n",
    "# Predict on the test set\n",
    "y_pred = clf.predict(X_test)\n",
    "\n",
    "# Evaluate model\n",
    "print(\"Gender Classification Performance:\\n\", classification_report(y_test, y_pred))\n",
    "print(\"Accuracy: {:.2f}%\".format(accuracy_score(y_test, y_pred) * 100))\n"
   ]
  },
  {
   "cell_type": "code",
   "execution_count": 39,
   "metadata": {},
   "outputs": [
    {
     "name": "stdout",
     "output_type": "stream",
     "text": [
      "True count: 811, False count: 189\n"
     ]
    }
   ],
   "source": [
    "rate = 0.8\n",
    "results = [np.random.choice([True, False], p=[rate, 1-rate]) for _ in range(1000)]\n",
    "print(f\"True count: {results.count(True)}, False count: {results.count(False)}\")"
   ]
  },
  {
   "cell_type": "code",
   "execution_count": 31,
   "metadata": {},
   "outputs": [
    {
     "data": {
      "text/plain": [
       "torch.Tensor"
      ]
     },
     "execution_count": 31,
     "metadata": {},
     "output_type": "execute_result"
    }
   ],
   "source": [
    "# fig, rows, columns = plt.figure(figsize=(50, 50)), 10,10\n",
    "v = clf.named_steps['linearsvc'].coef_[0].reshape((styles[0].shape))\n",
    "v = (torch.from_numpy(v).float())\n",
    "type(v)"
   ]
  },
  {
   "cell_type": "code",
   "execution_count": 41,
   "metadata": {},
   "outputs": [
    {
     "name": "stdout",
     "output_type": "stream",
     "text": [
      "torch.Size([512]) torch.Size([512])\n",
      "torch.Size([512]) torch.Size([512])\n"
     ]
    }
   ],
   "source": [
    "v1, v2 = v.clone(), v.clone()\n",
    "hyperplanes = torch.cat([v1,v2])\n",
    "print(v.shape, hyperplanes[:512].shape)\n",
    "print(v.shape, hyperplanes[512:].shape)"
   ]
  },
  {
   "cell_type": "code",
   "execution_count": null,
   "metadata": {},
   "outputs": [],
   "source": []
  },
  {
   "cell_type": "code",
   "execution_count": 131,
   "metadata": {},
   "outputs": [],
   "source": [
    "def male2female(w, step_size = 1, is_male=True):\n",
    "    if is_male:\n",
    "        step_size = step_size * -1\n",
    "    alpha, n_images = 0, 4\n",
    "    \n",
    "    synth, _ = generator([w], input_is_latent=True)\n",
    "    interpolations = synth\n",
    "    for i in range(n_images):\n",
    "        new_w = w + alpha * v\n",
    "        synth, _ = generator([new_w], input_is_latent=True)\n",
    "        interpolations = torch.cat([interpolations, synth], dim=0)\n",
    "        alpha = alpha + step_size\n",
    "    # save images\n",
    "    utils.save_image(interpolations, \"../real_samples.png\", nrow=int(n_images ** 2), normalize=True)"
   ]
  },
  {
   "cell_type": "markdown",
   "metadata": {},
   "source": [
    "## Sex-based Interpolation\n",
    "#### CheXpert image interpolation"
   ]
  },
  {
   "cell_type": "code",
   "execution_count": 115,
   "metadata": {},
   "outputs": [
    {
     "name": "stdout",
     "output_type": "stream",
     "text": [
      "torch.Size([5, 3, 256, 256])\n",
      "Patient Attributes: Female 71\n"
     ]
    }
   ],
   "source": [
    "import random\n",
    "\n",
    "interpolations, idx = [], random.randint(0,1000)\n",
    "\n",
    "# convert all male patients to female\n",
    "# male_patients = cxpt_csv[cxpt_csv[\"Sex\"] == \"Male\"]\n",
    "gender = cxpt_csv.iloc[idx][\"Sex\"]\n",
    "age = cxpt_csv.iloc[idx][\"Age\"]\n",
    "img = cv2.imread('../../jiezy/1/' + cxpt_csv.iloc[idx][\"Path\"])\n",
    "img = transform(img).to(device)\n",
    "img = torch.unsqueeze(img, 0)\n",
    "w = encoder(img)\n",
    "\n",
    "if gender == \"Male\":\n",
    "    male2female(w, is_male=True)\n",
    "else:\n",
    "    male2female(w, is_male=False)\n",
    "\n",
    "print(f\"Patient Attributes: {gender} {age}\")"
   ]
  },
  {
   "cell_type": "markdown",
   "metadata": {},
   "source": [
    "#### RSNA image interpolation"
   ]
  },
  {
   "cell_type": "code",
   "execution_count": 138,
   "metadata": {},
   "outputs": [
    {
     "name": "stdout",
     "output_type": "stream",
     "text": [
      "Patient Attributes: M 54\n",
      "Execution Time: 0.2614 seconds\n"
     ]
    }
   ],
   "source": [
    "import random\n",
    "import time\n",
    "\n",
    "interpolations, idx = [], random.randint(0,1000)\n",
    "\n",
    "rsna_csv = pd.DataFrame(pd.read_csv(\"../../datasets/rsna_patients.csv\"))\n",
    "\n",
    "\n",
    "\n",
    "# Start timing\n",
    "start_time = time.time()\n",
    "\n",
    "img = cv2.imread(\"../../datasets/augmented_sex/\" + rsna_csv.iloc[idx][\"Image Index\"])\n",
    "\n",
    "gender = rsna_csv.iloc[idx][\"Patient Gender\"]\n",
    "age = rsna_csv.iloc[idx][\"Patient Age\"]\n",
    "img = cv2.imread('../../datasets/augmented_sex/' + rsna_csv.iloc[idx][\"Image Index\"])\n",
    "img = transform(img).to(device)\n",
    "img = torch.unsqueeze(img, 0)\n",
    "w = encoder(img)\n",
    "\n",
    "if gender == \"M\":\n",
    "    male2female(w, is_male=True)\n",
    "else:\n",
    "    male2female(w, is_male=False)\n",
    "    \n",
    "# Calculate execution time\n",
    "end_time = time.time()\n",
    "execution_time = end_time - start_time\n",
    "\n",
    "print(f\"Patient Attributes: {gender} {age}\")\n",
    "print(f\"Execution Time: {execution_time:.4f} seconds\")"
   ]
  },
  {
   "cell_type": "markdown",
   "metadata": {},
   "source": [
    "## Age-based GCA"
   ]
  },
  {
   "cell_type": "code",
   "execution_count": 20,
   "metadata": {},
   "outputs": [
    {
     "name": "stdout",
     "output_type": "stream",
     "text": [
      "Total < 20 Y patients:  500\n",
      "Total 80+ Y patients:  500\n"
     ]
    }
   ],
   "source": [
    "n_patients = 500\n",
    "cxpt_csv = pd.DataFrame(pd.read_csv(\"../../jiezy/1/train.csv\"))\n",
    "\n",
    "# Load 500 latent vectors from each class\n",
    "young_patients = cxpt_csv[cxpt_csv[\"Age\"] < 20][:500]\n",
    "old_patients = cxpt_csv[cxpt_csv[\"Age\"] > 80][:500]\n",
    "print(\"Total < 20 Y patients: \", len(young_patients))\n",
    "print(\"Total 80+ Y patients: \", len(old_patients))"
   ]
  },
  {
   "cell_type": "code",
   "execution_count": 39,
   "metadata": {},
   "outputs": [
    {
     "data": {
      "text/plain": [
       "'train/patient03514/study1/view1_frontal.jpg'"
      ]
     },
     "execution_count": 39,
     "metadata": {},
     "output_type": "execute_result"
    }
   ],
   "source": [
    "path = '../../jiezy/1/CheXpert-v1.0-small/train/patient03514/study1/view1_frontal.jpg'\n",
    "path.split('CheXpert-v1.0-small/')[-1]"
   ]
  },
  {
   "cell_type": "code",
   "execution_count": 41,
   "metadata": {},
   "outputs": [],
   "source": [
    "def load_image(path):\n",
    "    img = cv2.imread(path)  # Load image using cv2\n",
    "#     img_rgb = cv2.cvtColor(img, cv2.COLOR_BGR2RGB)  # Convert to RGB\n",
    "    img_tensor = transform(img).unsqueeze(0).to(device)  # Preprocess\n",
    "    return img_tensor\n",
    "\n",
    "def process_in_batches(patients, path_prefix, encoder, batch_size):\n",
    "    style_vectors = []\n",
    "    for i in tqdm(range(0, len(patients), batch_size)):\n",
    "        batch_paths = patients.iloc[i : i + batch_size][\"Path\"].tolist()\n",
    "        \n",
    "        batch_imgs = [load_image(path_prefix + path.split('CheXpert-v1.0-small/')[-1]) for path in batch_paths]\n",
    "\n",
    "        batch_imgs_tensor = torch.cat(batch_imgs, dim=0)  # Stack images in a batch\n",
    "        with torch.no_grad():  # Avoid tracking gradients to save memory\n",
    "            # Encode batch to latent vectors in Z space\n",
    "            w_latents = encoder(batch_imgs_tensor)\n",
    "        # Move to CPU to save memory and add to list\n",
    "        style_vectors.extend(w_latents.cpu())\n",
    "        del batch_imgs_tensor, w_latents # Cleanup and clear cache\n",
    "        torch.cuda.empty_cache()  # Clear cache to free memory\n",
    "\n",
    "    return style_vectors"
   ]
  },
  {
   "cell_type": "code",
   "execution_count": 42,
   "metadata": {},
   "outputs": [
    {
     "name": "stderr",
     "output_type": "stream",
     "text": [
      "100%|██████████| 32/32 [00:55<00:00,  1.36s/it]\n",
      "100%|██████████| 32/32 [00:48<00:00,  1.26s/it]"
     ]
    },
    {
     "name": "stdout",
     "output_type": "stream",
     "text": [
      "< 20 Y and 80 Y embeddings loaded successfully...\n"
     ]
    },
    {
     "name": "stderr",
     "output_type": "stream",
     "text": [
      "\n"
     ]
    }
   ],
   "source": [
    "from torchvision import transforms\n",
    "\n",
    "transform = transforms.Compose(\n",
    "        [\n",
    "            transforms.ToTensor(),\n",
    "            transforms.Resize((256,256)),\n",
    "            transforms.Normalize((0.485, 0.456, 0.406), (0.229, 0.224, 0.225), inplace=True),\n",
    "        ]\n",
    "    )\n",
    "\n",
    "batch_size = 16\n",
    "\n",
    "# Process male and female images in batches\n",
    "young_imgs = process_in_batches(young_patients, \"../../jiezy/1/\", encoder, batch_size)\n",
    "old_imgs = process_in_batches(old_patients, \"../../jiezy/1/\", encoder, batch_size)\n",
    "print(\"< 20 Y and 80 Y embeddings loaded successfully...\")"
   ]
  },
  {
   "cell_type": "code",
   "execution_count": 44,
   "metadata": {},
   "outputs": [
    {
     "name": "stdout",
     "output_type": "stream",
     "text": [
      "Age Classification Performance:\n",
      "               precision    recall  f1-score   support\n",
      "\n",
      "      Female       0.84      0.87      0.86        87\n",
      "        Male       0.90      0.88      0.89       113\n",
      "\n",
      "    accuracy                           0.88       200\n",
      "   macro avg       0.87      0.87      0.87       200\n",
      "weighted avg       0.88      0.88      0.88       200\n",
      "\n",
      "Accuracy: 87.50%\n"
     ]
    },
    {
     "name": "stderr",
     "output_type": "stream",
     "text": [
      "/opt/conda/lib/python3.6/site-packages/sklearn/svm/_base.py:977: ConvergenceWarning: Liblinear failed to converge, increase the number of iterations.\n",
      "  \"the number of iterations.\", ConvergenceWarning)\n"
     ]
    }
   ],
   "source": [
    "import random\n",
    "import numpy as np\n",
    "from sklearn.model_selection import train_test_split\n",
    "from sklearn.metrics import classification_report, accuracy_score\n",
    "from sklearn.pipeline import make_pipeline\n",
    "from sklearn.svm import LinearSVC\n",
    "\n",
    "# prepare dataset\n",
    "styles, labels = [], []\n",
    "styles.extend(young_imgs); labels.extend(list(young_patients[\"Sex\"]))\n",
    "styles.extend(old_imgs); labels.extend(list(old_patients[\"Sex\"]))\n",
    "\n",
    "# Convert to NumPy arrays for sklearn compatibility\n",
    "styles = np.array([style.numpy().flatten() for style in styles])\n",
    "# styles = torch.stack(styles) \n",
    "labels = np.array(labels)\n",
    "\n",
    "\n",
    "# Shuffle dataset with the same seed\n",
    "seed = 42\n",
    "random.seed(seed)\n",
    "np.random.seed(seed)\n",
    "\n",
    "# Shuffle styles and labels together\n",
    "indices = np.arange(len(styles))\n",
    "np.random.shuffle(indices)\n",
    "styles, labels = styles[indices], labels[indices]\n",
    "\n",
    "# Split dataset into train and test sets (80/20 split)\n",
    "X_train, X_test, y_train, y_test = train_test_split(styles, labels, test_size=0.2, random_state=seed)\n",
    "\n",
    "# Initialize and train linear SVM\n",
    "# svm_model = SVC(kernel=\"linear\", C=1.0, random_state=seed, tol=1e-5)\n",
    "# svm_model.fit(X_train, y_train)\n",
    "clf = make_pipeline(LinearSVC(random_state=0, tol=1e-5))\n",
    "clf.fit(X_train, y_train)\n",
    "\n",
    "# Predict on the test set\n",
    "y_pred = clf.predict(X_test)\n",
    "\n",
    "# Evaluate model\n",
    "print(\"Age Classification Performance:\\n\", classification_report(y_test, y_pred))\n",
    "print(\"Accuracy: {:.2f}%\".format(accuracy_score(y_test, y_pred) * 100))"
   ]
  },
  {
   "cell_type": "markdown",
   "metadata": {},
   "source": [
    "#### CheXpert image interpolation"
   ]
  },
  {
   "cell_type": "code",
   "execution_count": 83,
   "metadata": {},
   "outputs": [],
   "source": [
    "def old2young(w, step_size = -2, is_young=True):\n",
    "    if is_young:\n",
    "        step_size = step_size * -1\n",
    "    alpha, n_images = 0, 4\n",
    "    \n",
    "    synth, _ = generator([w], input_is_latent=True)\n",
    "    interpolations = synth\n",
    "    for i in range(n_images):\n",
    "        new_w = w + alpha * v\n",
    "        synth, _ = generator([new_w], input_is_latent=True)\n",
    "        interpolations = torch.cat([interpolations, synth], dim=0)\n",
    "        alpha = alpha + step_size\n",
    "    # save images\n",
    "    utils.save_image(interpolations, \"../real_samples.png\", nrow=int(n_images ** 2), normalize=True)"
   ]
  },
  {
   "cell_type": "code",
   "execution_count": 92,
   "metadata": {},
   "outputs": [
    {
     "name": "stdout",
     "output_type": "stream",
     "text": [
      "Patient 373 Attributes: Female 86\n"
     ]
    }
   ],
   "source": [
    "import random\n",
    "\n",
    "interpolations, idx = [], random.randint(0,1000)\n",
    "\n",
    "# convert all male patients to female\n",
    "# male_patients = cxpt_csv[cxpt_csv[\"Sex\"] == \"Male\"]\n",
    "while cxpt_csv.iloc[idx][\"Age\"] >= 20 and cxpt_csv.iloc[idx][\"Age\"] <= 80:\n",
    "    idx = random.randint(0,1000)\n",
    "gender = cxpt_csv.iloc[idx][\"Sex\"]\n",
    "age = cxpt_csv.iloc[idx][\"Age\"]\n",
    "img = cv2.imread('../../jiezy/1/' + cxpt_csv.iloc[idx][\"Path\"])\n",
    "img = transform(img).to(device)\n",
    "img = torch.unsqueeze(img, 0)\n",
    "w = encoder(img)\n",
    "\n",
    "\n",
    "v = clf.named_steps['linearsvc'].coef_[0].reshape((styles[0].shape))\n",
    "v = (torch.from_numpy(v).float()).to(device)\n",
    "\n",
    "if age < 20:\n",
    "    old2young(w, is_young=True)\n",
    "elif age > 80:\n",
    "    old2young(w, is_young=False)\n",
    "\n",
    "print(f\"Patient {idx} Attributes: {gender} {age}\")"
   ]
  },
  {
   "cell_type": "code",
   "execution_count": 89,
   "metadata": {},
   "outputs": [
    {
     "name": "stdout",
     "output_type": "stream",
     "text": [
      "Patient 747 Attributes: Male 87\n"
     ]
    }
   ],
   "source": [
    "interpolations, idx = [], random.randint(0,1000)\n",
    "\n",
    "idx = 747\n",
    "gender = cxpt_csv.iloc[idx][\"Sex\"]\n",
    "age = cxpt_csv.iloc[idx][\"Age\"]\n",
    "img = cv2.imread('../../jiezy/1/' + cxpt_csv.iloc[idx][\"Path\"])\n",
    "img = transform(img).to(device)\n",
    "img = torch.unsqueeze(img, 0)\n",
    "w = encoder(img)\n",
    "\n",
    "\n",
    "v = clf.named_steps['linearsvc'].coef_[0].reshape((styles[0].shape))\n",
    "v = (torch.from_numpy(v).float()).to(device)\n",
    "\n",
    "if age < 20:\n",
    "    old2young(w, is_young=True)\n",
    "elif age > 80:\n",
    "    old2young(w, is_young=False)\n",
    "\n",
    "print(f\"Patient {idx} Attributes: {gender} {age}\")"
   ]
  },
  {
   "cell_type": "code",
   "execution_count": null,
   "metadata": {},
   "outputs": [],
   "source": []
  }
 ],
 "metadata": {
  "kernelspec": {
   "display_name": "ada",
   "language": "python",
   "name": "ada"
  },
  "language_info": {
   "codemirror_mode": {
    "name": "ipython",
    "version": 3
   },
   "file_extension": ".py",
   "mimetype": "text/x-python",
   "name": "python",
   "nbconvert_exporter": "python",
   "pygments_lexer": "ipython3",
   "version": "3.8.20"
  }
 },
 "nbformat": 4,
 "nbformat_minor": 4
}
